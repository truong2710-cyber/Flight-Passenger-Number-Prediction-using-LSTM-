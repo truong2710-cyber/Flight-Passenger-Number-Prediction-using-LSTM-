{
 "metadata": {
  "language_info": {
   "codemirror_mode": {
    "name": "ipython",
    "version": 3
   },
   "file_extension": ".py",
   "mimetype": "text/x-python",
   "name": "python",
   "nbconvert_exporter": "python",
   "pygments_lexer": "ipython3",
   "version": "3.9.5-final"
  },
  "orig_nbformat": 4,
  "kernelspec": {
   "name": "python3",
   "display_name": "Python 3.9.5 64-bit"
  },
  "interpreter": {
   "hash": "cf6663ca35ebd57d6121109460e534e72c1e1f8ff142ad985cdcb4b7e585eb79"
  }
 },
 "nbformat": 4,
 "nbformat_minor": 2,
 "cells": [
  {
   "cell_type": "code",
   "execution_count": 2,
   "metadata": {},
   "outputs": [],
   "source": [
    "import pandas\n",
    "import matplotlib.pyplot as plt "
   ]
  },
  {
   "cell_type": "code",
   "execution_count": 3,
   "metadata": {},
   "outputs": [
    {
     "output_type": "display_data",
     "data": {
      "text/plain": "<Figure size 432x288 with 1 Axes>",
      "image/svg+xml": "<?xml version=\"1.0\" encoding=\"utf-8\" standalone=\"no\"?>\r\n<!DOCTYPE svg PUBLIC \"-//W3C//DTD SVG 1.1//EN\"\r\n  \"http://www.w3.org/Graphics/SVG/1.1/DTD/svg11.dtd\">\r\n<svg height=\"248.518125pt\" version=\"1.1\" viewBox=\"0 0 375.2875 248.518125\" width=\"375.2875pt\" xmlns=\"http://www.w3.org/2000/svg\" xmlns:xlink=\"http://www.w3.org/1999/xlink\">\r\n <metadata>\r\n  <rdf:RDF xmlns:cc=\"http://creativecommons.org/ns#\" xmlns:dc=\"http://purl.org/dc/elements/1.1/\" xmlns:rdf=\"http://www.w3.org/1999/02/22-rdf-syntax-ns#\">\r\n   <cc:Work>\r\n    <dc:type rdf:resource=\"http://purl.org/dc/dcmitype/StillImage\"/>\r\n    <dc:date>2021-07-01T09:25:25.751124</dc:date>\r\n    <dc:format>image/svg+xml</dc:format>\r\n    <dc:creator>\r\n     <cc:Agent>\r\n      <dc:title>Matplotlib v3.4.2, https://matplotlib.org/</dc:title>\r\n     </cc:Agent>\r\n    </dc:creator>\r\n   </cc:Work>\r\n  </rdf:RDF>\r\n </metadata>\r\n <defs>\r\n  <style type=\"text/css\">*{stroke-linecap:butt;stroke-linejoin:round;}</style>\r\n </defs>\r\n <g id=\"figure_1\">\r\n  <g id=\"patch_1\">\r\n   <path d=\"M 0 248.518125 \r\nL 375.2875 248.518125 \r\nL 375.2875 0 \r\nL 0 0 \r\nz\r\n\" style=\"fill:none;\"/>\r\n  </g>\r\n  <g id=\"axes_1\">\r\n   <g id=\"patch_2\">\r\n    <path d=\"M 33.2875 224.64 \r\nL 368.0875 224.64 \r\nL 368.0875 7.2 \r\nL 33.2875 7.2 \r\nz\r\n\" style=\"fill:#ffffff;\"/>\r\n   </g>\r\n   <g id=\"matplotlib.axis_1\">\r\n    <g id=\"xtick_1\">\r\n     <g id=\"line2d_1\">\r\n      <defs>\r\n       <path d=\"M 0 0 \r\nL 0 3.5 \r\n\" id=\"m12afae6f6b\" style=\"stroke:#000000;stroke-width:0.8;\"/>\r\n      </defs>\r\n      <g>\r\n       <use style=\"stroke:#000000;stroke-width:0.8;\" x=\"48.505682\" xlink:href=\"#m12afae6f6b\" y=\"224.64\"/>\r\n      </g>\r\n     </g>\r\n     <g id=\"text_1\">\r\n      <!-- 0 -->\r\n      <g transform=\"translate(45.324432 239.238437)scale(0.1 -0.1)\">\r\n       <defs>\r\n        <path d=\"M 2034 4250 \r\nQ 1547 4250 1301 3770 \r\nQ 1056 3291 1056 2328 \r\nQ 1056 1369 1301 889 \r\nQ 1547 409 2034 409 \r\nQ 2525 409 2770 889 \r\nQ 3016 1369 3016 2328 \r\nQ 3016 3291 2770 3770 \r\nQ 2525 4250 2034 4250 \r\nz\r\nM 2034 4750 \r\nQ 2819 4750 3233 4129 \r\nQ 3647 3509 3647 2328 \r\nQ 3647 1150 3233 529 \r\nQ 2819 -91 2034 -91 \r\nQ 1250 -91 836 529 \r\nQ 422 1150 422 2328 \r\nQ 422 3509 836 4129 \r\nQ 1250 4750 2034 4750 \r\nz\r\n\" id=\"DejaVuSans-30\" transform=\"scale(0.015625)\"/>\r\n       </defs>\r\n       <use xlink:href=\"#DejaVuSans-30\"/>\r\n      </g>\r\n     </g>\r\n    </g>\r\n    <g id=\"xtick_2\">\r\n     <g id=\"line2d_2\">\r\n      <g>\r\n       <use style=\"stroke:#000000;stroke-width:0.8;\" x=\"91.074023\" xlink:href=\"#m12afae6f6b\" y=\"224.64\"/>\r\n      </g>\r\n     </g>\r\n     <g id=\"text_2\">\r\n      <!-- 20 -->\r\n      <g transform=\"translate(84.711523 239.238437)scale(0.1 -0.1)\">\r\n       <defs>\r\n        <path d=\"M 1228 531 \r\nL 3431 531 \r\nL 3431 0 \r\nL 469 0 \r\nL 469 531 \r\nQ 828 903 1448 1529 \r\nQ 2069 2156 2228 2338 \r\nQ 2531 2678 2651 2914 \r\nQ 2772 3150 2772 3378 \r\nQ 2772 3750 2511 3984 \r\nQ 2250 4219 1831 4219 \r\nQ 1534 4219 1204 4116 \r\nQ 875 4013 500 3803 \r\nL 500 4441 \r\nQ 881 4594 1212 4672 \r\nQ 1544 4750 1819 4750 \r\nQ 2544 4750 2975 4387 \r\nQ 3406 4025 3406 3419 \r\nQ 3406 3131 3298 2873 \r\nQ 3191 2616 2906 2266 \r\nQ 2828 2175 2409 1742 \r\nQ 1991 1309 1228 531 \r\nz\r\n\" id=\"DejaVuSans-32\" transform=\"scale(0.015625)\"/>\r\n       </defs>\r\n       <use xlink:href=\"#DejaVuSans-32\"/>\r\n       <use x=\"63.623047\" xlink:href=\"#DejaVuSans-30\"/>\r\n      </g>\r\n     </g>\r\n    </g>\r\n    <g id=\"xtick_3\">\r\n     <g id=\"line2d_3\">\r\n      <g>\r\n       <use style=\"stroke:#000000;stroke-width:0.8;\" x=\"133.642363\" xlink:href=\"#m12afae6f6b\" y=\"224.64\"/>\r\n      </g>\r\n     </g>\r\n     <g id=\"text_3\">\r\n      <!-- 40 -->\r\n      <g transform=\"translate(127.279863 239.238437)scale(0.1 -0.1)\">\r\n       <defs>\r\n        <path d=\"M 2419 4116 \r\nL 825 1625 \r\nL 2419 1625 \r\nL 2419 4116 \r\nz\r\nM 2253 4666 \r\nL 3047 4666 \r\nL 3047 1625 \r\nL 3713 1625 \r\nL 3713 1100 \r\nL 3047 1100 \r\nL 3047 0 \r\nL 2419 0 \r\nL 2419 1100 \r\nL 313 1100 \r\nL 313 1709 \r\nL 2253 4666 \r\nz\r\n\" id=\"DejaVuSans-34\" transform=\"scale(0.015625)\"/>\r\n       </defs>\r\n       <use xlink:href=\"#DejaVuSans-34\"/>\r\n       <use x=\"63.623047\" xlink:href=\"#DejaVuSans-30\"/>\r\n      </g>\r\n     </g>\r\n    </g>\r\n    <g id=\"xtick_4\">\r\n     <g id=\"line2d_4\">\r\n      <g>\r\n       <use style=\"stroke:#000000;stroke-width:0.8;\" x=\"176.210704\" xlink:href=\"#m12afae6f6b\" y=\"224.64\"/>\r\n      </g>\r\n     </g>\r\n     <g id=\"text_4\">\r\n      <!-- 60 -->\r\n      <g transform=\"translate(169.848204 239.238437)scale(0.1 -0.1)\">\r\n       <defs>\r\n        <path d=\"M 2113 2584 \r\nQ 1688 2584 1439 2293 \r\nQ 1191 2003 1191 1497 \r\nQ 1191 994 1439 701 \r\nQ 1688 409 2113 409 \r\nQ 2538 409 2786 701 \r\nQ 3034 994 3034 1497 \r\nQ 3034 2003 2786 2293 \r\nQ 2538 2584 2113 2584 \r\nz\r\nM 3366 4563 \r\nL 3366 3988 \r\nQ 3128 4100 2886 4159 \r\nQ 2644 4219 2406 4219 \r\nQ 1781 4219 1451 3797 \r\nQ 1122 3375 1075 2522 \r\nQ 1259 2794 1537 2939 \r\nQ 1816 3084 2150 3084 \r\nQ 2853 3084 3261 2657 \r\nQ 3669 2231 3669 1497 \r\nQ 3669 778 3244 343 \r\nQ 2819 -91 2113 -91 \r\nQ 1303 -91 875 529 \r\nQ 447 1150 447 2328 \r\nQ 447 3434 972 4092 \r\nQ 1497 4750 2381 4750 \r\nQ 2619 4750 2861 4703 \r\nQ 3103 4656 3366 4563 \r\nz\r\n\" id=\"DejaVuSans-36\" transform=\"scale(0.015625)\"/>\r\n       </defs>\r\n       <use xlink:href=\"#DejaVuSans-36\"/>\r\n       <use x=\"63.623047\" xlink:href=\"#DejaVuSans-30\"/>\r\n      </g>\r\n     </g>\r\n    </g>\r\n    <g id=\"xtick_5\">\r\n     <g id=\"line2d_5\">\r\n      <g>\r\n       <use style=\"stroke:#000000;stroke-width:0.8;\" x=\"218.779045\" xlink:href=\"#m12afae6f6b\" y=\"224.64\"/>\r\n      </g>\r\n     </g>\r\n     <g id=\"text_5\">\r\n      <!-- 80 -->\r\n      <g transform=\"translate(212.416545 239.238437)scale(0.1 -0.1)\">\r\n       <defs>\r\n        <path d=\"M 2034 2216 \r\nQ 1584 2216 1326 1975 \r\nQ 1069 1734 1069 1313 \r\nQ 1069 891 1326 650 \r\nQ 1584 409 2034 409 \r\nQ 2484 409 2743 651 \r\nQ 3003 894 3003 1313 \r\nQ 3003 1734 2745 1975 \r\nQ 2488 2216 2034 2216 \r\nz\r\nM 1403 2484 \r\nQ 997 2584 770 2862 \r\nQ 544 3141 544 3541 \r\nQ 544 4100 942 4425 \r\nQ 1341 4750 2034 4750 \r\nQ 2731 4750 3128 4425 \r\nQ 3525 4100 3525 3541 \r\nQ 3525 3141 3298 2862 \r\nQ 3072 2584 2669 2484 \r\nQ 3125 2378 3379 2068 \r\nQ 3634 1759 3634 1313 \r\nQ 3634 634 3220 271 \r\nQ 2806 -91 2034 -91 \r\nQ 1263 -91 848 271 \r\nQ 434 634 434 1313 \r\nQ 434 1759 690 2068 \r\nQ 947 2378 1403 2484 \r\nz\r\nM 1172 3481 \r\nQ 1172 3119 1398 2916 \r\nQ 1625 2713 2034 2713 \r\nQ 2441 2713 2670 2916 \r\nQ 2900 3119 2900 3481 \r\nQ 2900 3844 2670 4047 \r\nQ 2441 4250 2034 4250 \r\nQ 1625 4250 1398 4047 \r\nQ 1172 3844 1172 3481 \r\nz\r\n\" id=\"DejaVuSans-38\" transform=\"scale(0.015625)\"/>\r\n       </defs>\r\n       <use xlink:href=\"#DejaVuSans-38\"/>\r\n       <use x=\"63.623047\" xlink:href=\"#DejaVuSans-30\"/>\r\n      </g>\r\n     </g>\r\n    </g>\r\n    <g id=\"xtick_6\">\r\n     <g id=\"line2d_6\">\r\n      <g>\r\n       <use style=\"stroke:#000000;stroke-width:0.8;\" x=\"261.347386\" xlink:href=\"#m12afae6f6b\" y=\"224.64\"/>\r\n      </g>\r\n     </g>\r\n     <g id=\"text_6\">\r\n      <!-- 100 -->\r\n      <g transform=\"translate(251.803636 239.238437)scale(0.1 -0.1)\">\r\n       <defs>\r\n        <path d=\"M 794 531 \r\nL 1825 531 \r\nL 1825 4091 \r\nL 703 3866 \r\nL 703 4441 \r\nL 1819 4666 \r\nL 2450 4666 \r\nL 2450 531 \r\nL 3481 531 \r\nL 3481 0 \r\nL 794 0 \r\nL 794 531 \r\nz\r\n\" id=\"DejaVuSans-31\" transform=\"scale(0.015625)\"/>\r\n       </defs>\r\n       <use xlink:href=\"#DejaVuSans-31\"/>\r\n       <use x=\"63.623047\" xlink:href=\"#DejaVuSans-30\"/>\r\n       <use x=\"127.246094\" xlink:href=\"#DejaVuSans-30\"/>\r\n      </g>\r\n     </g>\r\n    </g>\r\n    <g id=\"xtick_7\">\r\n     <g id=\"line2d_7\">\r\n      <g>\r\n       <use style=\"stroke:#000000;stroke-width:0.8;\" x=\"303.915726\" xlink:href=\"#m12afae6f6b\" y=\"224.64\"/>\r\n      </g>\r\n     </g>\r\n     <g id=\"text_7\">\r\n      <!-- 120 -->\r\n      <g transform=\"translate(294.371976 239.238437)scale(0.1 -0.1)\">\r\n       <use xlink:href=\"#DejaVuSans-31\"/>\r\n       <use x=\"63.623047\" xlink:href=\"#DejaVuSans-32\"/>\r\n       <use x=\"127.246094\" xlink:href=\"#DejaVuSans-30\"/>\r\n      </g>\r\n     </g>\r\n    </g>\r\n    <g id=\"xtick_8\">\r\n     <g id=\"line2d_8\">\r\n      <g>\r\n       <use style=\"stroke:#000000;stroke-width:0.8;\" x=\"346.484067\" xlink:href=\"#m12afae6f6b\" y=\"224.64\"/>\r\n      </g>\r\n     </g>\r\n     <g id=\"text_8\">\r\n      <!-- 140 -->\r\n      <g transform=\"translate(336.940317 239.238437)scale(0.1 -0.1)\">\r\n       <use xlink:href=\"#DejaVuSans-31\"/>\r\n       <use x=\"63.623047\" xlink:href=\"#DejaVuSans-34\"/>\r\n       <use x=\"127.246094\" xlink:href=\"#DejaVuSans-30\"/>\r\n      </g>\r\n     </g>\r\n    </g>\r\n   </g>\r\n   <g id=\"matplotlib.axis_2\">\r\n    <g id=\"ytick_1\">\r\n     <g id=\"line2d_9\">\r\n      <defs>\r\n       <path d=\"M 0 0 \r\nL -3.5 0 \r\n\" id=\"m0b00202e46\" style=\"stroke:#000000;stroke-width:0.8;\"/>\r\n      </defs>\r\n      <g>\r\n       <use style=\"stroke:#000000;stroke-width:0.8;\" x=\"33.2875\" xlink:href=\"#m0b00202e46\" y=\"216.282794\"/>\r\n      </g>\r\n     </g>\r\n     <g id=\"text_9\">\r\n      <!-- 100 -->\r\n      <g transform=\"translate(7.2 220.082013)scale(0.1 -0.1)\">\r\n       <use xlink:href=\"#DejaVuSans-31\"/>\r\n       <use x=\"63.623047\" xlink:href=\"#DejaVuSans-30\"/>\r\n       <use x=\"127.246094\" xlink:href=\"#DejaVuSans-30\"/>\r\n      </g>\r\n     </g>\r\n    </g>\r\n    <g id=\"ytick_2\">\r\n     <g id=\"line2d_10\">\r\n      <g>\r\n       <use style=\"stroke:#000000;stroke-width:0.8;\" x=\"33.2875\" xlink:href=\"#m0b00202e46\" y=\"178.122036\"/>\r\n      </g>\r\n     </g>\r\n     <g id=\"text_10\">\r\n      <!-- 200 -->\r\n      <g transform=\"translate(7.2 181.921255)scale(0.1 -0.1)\">\r\n       <use xlink:href=\"#DejaVuSans-32\"/>\r\n       <use x=\"63.623047\" xlink:href=\"#DejaVuSans-30\"/>\r\n       <use x=\"127.246094\" xlink:href=\"#DejaVuSans-30\"/>\r\n      </g>\r\n     </g>\r\n    </g>\r\n    <g id=\"ytick_3\">\r\n     <g id=\"line2d_11\">\r\n      <g>\r\n       <use style=\"stroke:#000000;stroke-width:0.8;\" x=\"33.2875\" xlink:href=\"#m0b00202e46\" y=\"139.961278\"/>\r\n      </g>\r\n     </g>\r\n     <g id=\"text_11\">\r\n      <!-- 300 -->\r\n      <g transform=\"translate(7.2 143.760496)scale(0.1 -0.1)\">\r\n       <defs>\r\n        <path d=\"M 2597 2516 \r\nQ 3050 2419 3304 2112 \r\nQ 3559 1806 3559 1356 \r\nQ 3559 666 3084 287 \r\nQ 2609 -91 1734 -91 \r\nQ 1441 -91 1130 -33 \r\nQ 819 25 488 141 \r\nL 488 750 \r\nQ 750 597 1062 519 \r\nQ 1375 441 1716 441 \r\nQ 2309 441 2620 675 \r\nQ 2931 909 2931 1356 \r\nQ 2931 1769 2642 2001 \r\nQ 2353 2234 1838 2234 \r\nL 1294 2234 \r\nL 1294 2753 \r\nL 1863 2753 \r\nQ 2328 2753 2575 2939 \r\nQ 2822 3125 2822 3475 \r\nQ 2822 3834 2567 4026 \r\nQ 2313 4219 1838 4219 \r\nQ 1578 4219 1281 4162 \r\nQ 984 4106 628 3988 \r\nL 628 4550 \r\nQ 988 4650 1302 4700 \r\nQ 1616 4750 1894 4750 \r\nQ 2613 4750 3031 4423 \r\nQ 3450 4097 3450 3541 \r\nQ 3450 3153 3228 2886 \r\nQ 3006 2619 2597 2516 \r\nz\r\n\" id=\"DejaVuSans-33\" transform=\"scale(0.015625)\"/>\r\n       </defs>\r\n       <use xlink:href=\"#DejaVuSans-33\"/>\r\n       <use x=\"63.623047\" xlink:href=\"#DejaVuSans-30\"/>\r\n       <use x=\"127.246094\" xlink:href=\"#DejaVuSans-30\"/>\r\n      </g>\r\n     </g>\r\n    </g>\r\n    <g id=\"ytick_4\">\r\n     <g id=\"line2d_12\">\r\n      <g>\r\n       <use style=\"stroke:#000000;stroke-width:0.8;\" x=\"33.2875\" xlink:href=\"#m0b00202e46\" y=\"101.800519\"/>\r\n      </g>\r\n     </g>\r\n     <g id=\"text_12\">\r\n      <!-- 400 -->\r\n      <g transform=\"translate(7.2 105.599738)scale(0.1 -0.1)\">\r\n       <use xlink:href=\"#DejaVuSans-34\"/>\r\n       <use x=\"63.623047\" xlink:href=\"#DejaVuSans-30\"/>\r\n       <use x=\"127.246094\" xlink:href=\"#DejaVuSans-30\"/>\r\n      </g>\r\n     </g>\r\n    </g>\r\n    <g id=\"ytick_5\">\r\n     <g id=\"line2d_13\">\r\n      <g>\r\n       <use style=\"stroke:#000000;stroke-width:0.8;\" x=\"33.2875\" xlink:href=\"#m0b00202e46\" y=\"63.639761\"/>\r\n      </g>\r\n     </g>\r\n     <g id=\"text_13\">\r\n      <!-- 500 -->\r\n      <g transform=\"translate(7.2 67.43898)scale(0.1 -0.1)\">\r\n       <defs>\r\n        <path d=\"M 691 4666 \r\nL 3169 4666 \r\nL 3169 4134 \r\nL 1269 4134 \r\nL 1269 2991 \r\nQ 1406 3038 1543 3061 \r\nQ 1681 3084 1819 3084 \r\nQ 2600 3084 3056 2656 \r\nQ 3513 2228 3513 1497 \r\nQ 3513 744 3044 326 \r\nQ 2575 -91 1722 -91 \r\nQ 1428 -91 1123 -41 \r\nQ 819 9 494 109 \r\nL 494 744 \r\nQ 775 591 1075 516 \r\nQ 1375 441 1709 441 \r\nQ 2250 441 2565 725 \r\nQ 2881 1009 2881 1497 \r\nQ 2881 1984 2565 2268 \r\nQ 2250 2553 1709 2553 \r\nQ 1456 2553 1204 2497 \r\nQ 953 2441 691 2322 \r\nL 691 4666 \r\nz\r\n\" id=\"DejaVuSans-35\" transform=\"scale(0.015625)\"/>\r\n       </defs>\r\n       <use xlink:href=\"#DejaVuSans-35\"/>\r\n       <use x=\"63.623047\" xlink:href=\"#DejaVuSans-30\"/>\r\n       <use x=\"127.246094\" xlink:href=\"#DejaVuSans-30\"/>\r\n      </g>\r\n     </g>\r\n    </g>\r\n    <g id=\"ytick_6\">\r\n     <g id=\"line2d_14\">\r\n      <g>\r\n       <use style=\"stroke:#000000;stroke-width:0.8;\" x=\"33.2875\" xlink:href=\"#m0b00202e46\" y=\"25.479003\"/>\r\n      </g>\r\n     </g>\r\n     <g id=\"text_14\">\r\n      <!-- 600 -->\r\n      <g transform=\"translate(7.2 29.278222)scale(0.1 -0.1)\">\r\n       <use xlink:href=\"#DejaVuSans-36\"/>\r\n       <use x=\"63.623047\" xlink:href=\"#DejaVuSans-30\"/>\r\n       <use x=\"127.246094\" xlink:href=\"#DejaVuSans-30\"/>\r\n      </g>\r\n     </g>\r\n    </g>\r\n   </g>\r\n   <g id=\"line2d_15\">\r\n    <path clip-path=\"url(#pcefaf6b63c)\" d=\"M 48.505682 211.703503 \r\nL 50.634099 209.413857 \r\nL 52.762516 204.071351 \r\nL 54.890933 205.216174 \r\nL 57.01935 208.269035 \r\nL 59.147767 202.926529 \r\nL 61.276184 197.96563 \r\nL 63.404601 197.96563 \r\nL 65.533018 202.544921 \r\nL 67.661435 209.03225 \r\nL 69.789852 214.756364 \r\nL 71.918269 209.413857 \r\nL 74.046686 210.55868 \r\nL 76.175103 206.360997 \r\nL 78.30352 200.636883 \r\nL 80.431937 202.926529 \r\nL 82.560354 206.742604 \r\nL 84.688771 197.584022 \r\nL 86.817188 189.570263 \r\nL 88.945606 189.570263 \r\nL 91.074023 194.149554 \r\nL 93.20244 203.689744 \r\nL 95.330857 210.940288 \r\nL 97.459274 201.018491 \r\nL 101.716108 197.202415 \r\nL 103.844525 186.517403 \r\nL 105.972942 192.241516 \r\nL 108.101359 188.807048 \r\nL 110.229776 186.517403 \r\nL 112.358193 178.503643 \r\nL 114.48661 178.503643 \r\nL 116.615027 184.227757 \r\nL 118.743444 192.623124 \r\nL 120.871861 198.728845 \r\nL 123.000278 191.096694 \r\nL 125.128695 189.188656 \r\nL 127.257112 185.754187 \r\nL 129.385529 180.793289 \r\nL 131.513946 185.37258 \r\nL 133.642363 184.609365 \r\nL 135.77078 171.253099 \r\nL 140.027614 162.094517 \r\nL 142.156031 174.687568 \r\nL 144.284449 181.556504 \r\nL 146.412866 188.807048 \r\nL 148.541283 180.411681 \r\nL 150.6697 179.648466 \r\nL 152.798117 179.648466 \r\nL 154.926534 164.384163 \r\nL 157.054951 164.76577 \r\nL 159.183368 167.055416 \r\nL 161.311785 161.71291 \r\nL 163.440202 153.699151 \r\nL 165.568619 150.64629 \r\nL 167.697036 164.002555 \r\nL 169.825453 173.924352 \r\nL 171.95387 185.754187 \r\nL 174.082287 177.740428 \r\nL 176.210704 176.595605 \r\nL 178.339121 182.701327 \r\nL 180.467538 164.76577 \r\nL 182.595955 167.818631 \r\nL 184.724372 165.147378 \r\nL 186.852789 153.699151 \r\nL 188.981206 139.198062 \r\nL 191.109623 142.632531 \r\nL 193.23804 155.607188 \r\nL 195.366457 167.055416 \r\nL 197.494874 176.977213 \r\nL 199.623291 167.055416 \r\nL 201.751709 162.094517 \r\nL 203.880126 165.528986 \r\nL 206.008543 152.554328 \r\nL 208.13696 151.791113 \r\nL 210.265377 151.409505 \r\nL 212.393794 134.237164 \r\nL 214.522211 115.538392 \r\nL 216.650628 122.025721 \r\nL 218.779045 135.381987 \r\nL 223.035879 164.002555 \r\nL 225.164296 148.356644 \r\nL 227.292713 146.066999 \r\nL 229.42113 148.738252 \r\nL 231.549547 133.473949 \r\nL 233.677964 135.000379 \r\nL 235.806381 133.092341 \r\nL 237.934798 111.722317 \r\nL 240.063215 96.839621 \r\nL 242.191632 99.892482 \r\nL 246.448466 137.671632 \r\nL 248.576883 151.027898 \r\nL 250.7053 137.671632 \r\nL 252.833717 134.237164 \r\nL 254.962134 139.57967 \r\nL 257.090551 118.591253 \r\nL 259.218969 121.644114 \r\nL 261.347386 118.972861 \r\nL 263.475803 93.405153 \r\nL 265.60422 76.996027 \r\nL 267.732637 76.232812 \r\nL 269.861054 100.274089 \r\nL 271.989471 122.025721 \r\nL 274.117888 138.05324 \r\nL 276.246305 126.223405 \r\nL 278.374722 124.696974 \r\nL 280.503139 133.092341 \r\nL 282.631556 116.301608 \r\nL 284.759973 121.644114 \r\nL 286.88839 115.92 \r\nL 289.016807 88.444254 \r\nL 291.145224 67.07423 \r\nL 293.273641 61.731723 \r\nL 295.402058 100.274089 \r\nL 297.530475 117.44643 \r\nL 299.658892 136.145202 \r\nL 301.787309 125.841797 \r\nL 303.915726 117.064823 \r\nL 306.044143 123.933759 \r\nL 308.17256 99.510874 \r\nL 310.300977 103.32695 \r\nL 312.429394 94.168368 \r\nL 314.557812 74.324774 \r\nL 316.686229 45.322597 \r\nL 318.814646 41.124914 \r\nL 320.943063 77.759242 \r\nL 323.07148 99.129266 \r\nL 325.199897 116.301608 \r\nL 327.328314 99.892482 \r\nL 329.456731 95.313191 \r\nL 331.585148 105.234988 \r\nL 333.713565 94.549975 \r\nL 335.841982 78.522457 \r\nL 337.970399 74.324774 \r\nL 340.098816 50.283496 \r\nL 342.227233 17.083636 \r\nL 344.35565 23.189358 \r\nL 346.484067 60.586901 \r\nL 348.612484 78.522457 \r\nL 350.740901 105.616595 \r\nL 352.869318 89.589077 \r\nL 352.869318 89.589077 \r\n\" style=\"fill:none;stroke:#1f77b4;stroke-linecap:square;stroke-width:1.5;\"/>\r\n   </g>\r\n   <g id=\"patch_3\">\r\n    <path d=\"M 33.2875 224.64 \r\nL 33.2875 7.2 \r\n\" style=\"fill:none;stroke:#000000;stroke-linecap:square;stroke-linejoin:miter;stroke-width:0.8;\"/>\r\n   </g>\r\n   <g id=\"patch_4\">\r\n    <path d=\"M 368.0875 224.64 \r\nL 368.0875 7.2 \r\n\" style=\"fill:none;stroke:#000000;stroke-linecap:square;stroke-linejoin:miter;stroke-width:0.8;\"/>\r\n   </g>\r\n   <g id=\"patch_5\">\r\n    <path d=\"M 33.2875 224.64 \r\nL 368.0875 224.64 \r\n\" style=\"fill:none;stroke:#000000;stroke-linecap:square;stroke-linejoin:miter;stroke-width:0.8;\"/>\r\n   </g>\r\n   <g id=\"patch_6\">\r\n    <path d=\"M 33.2875 7.2 \r\nL 368.0875 7.2 \r\n\" style=\"fill:none;stroke:#000000;stroke-linecap:square;stroke-linejoin:miter;stroke-width:0.8;\"/>\r\n   </g>\r\n  </g>\r\n </g>\r\n <defs>\r\n  <clipPath id=\"pcefaf6b63c\">\r\n   <rect height=\"217.44\" width=\"334.8\" x=\"33.2875\" y=\"7.2\"/>\r\n  </clipPath>\r\n </defs>\r\n</svg>\r\n",
      "image/png": "[encoded data removed]"
     },
     "metadata": {
      "needs_background": "light"
     }
    }
   ],
   "source": [
    "dataset=pandas.read_csv('data.csv',usecols=[1])\n",
    "plt.plot(dataset)\n",
    "plt.show()"
   ]
  },
  {
   "cell_type": "code",
   "execution_count": 4,
   "metadata": {},
   "outputs": [],
   "source": [
    "import numpy as np\n",
    "import math\n",
    "from keras.models import Sequential\n",
    "from keras.layers import Dense, LSTM\n",
    "from sklearn.preprocessing import MinMaxScaler\n",
    "from sklearn.metrics import mean_squared_error\n",
    "from sklearn.model_selection import train_test_split\n",
    "import tensorflow as tf\n",
    "np.random.seed(7)\n"
   ]
  },
  {
   "cell_type": "code",
   "execution_count": 5,
   "metadata": {},
   "outputs": [],
   "source": [
    "dataset=dataset.values.astype('float32')\n",
    "\n"
   ]
  },
  {
   "cell_type": "code",
   "execution_count": 6,
   "metadata": {},
   "outputs": [
    {
     "output_type": "stream",
     "name": "stdout",
     "text": [
      "144\n"
     ]
    },
    {
     "output_type": "execute_result",
     "data": {
      "text/plain": [
       "array([[0.01544401],\n",
       "       [0.02702703],\n",
       "       [0.05405405],\n",
       "       [0.04826255],\n",
       "       [0.03281853],\n",
       "       [0.05984557],\n",
       "       [0.08494207],\n",
       "       [0.08494207],\n",
       "       [0.06177607],\n",
       "       [0.02895753],\n",
       "       [0.        ],\n",
       "       [0.02702703],\n",
       "       [0.02123553],\n",
       "       [0.04247104],\n",
       "       [0.07142857],\n",
       "       [0.05984557],\n",
       "       [0.04054055],\n",
       "       [0.08687258],\n",
       "       [0.12741312],\n",
       "       [0.12741312],\n",
       "       [0.10424709],\n",
       "       [0.05598456],\n",
       "       [0.01930502],\n",
       "       [0.06949806],\n",
       "       [0.07915059],\n",
       "       [0.08880308],\n",
       "       [0.14285713],\n",
       "       [0.11389962],\n",
       "       [0.13127413],\n",
       "       [0.14285713],\n",
       "       [0.18339768],\n",
       "       [0.18339768],\n",
       "       [0.15444016],\n",
       "       [0.11196911],\n",
       "       [0.08108109],\n",
       "       [0.1196911 ],\n",
       "       [0.12934363],\n",
       "       [0.14671814],\n",
       "       [0.17181468],\n",
       "       [0.14864865],\n",
       "       [0.15250966],\n",
       "       [0.22007722],\n",
       "       [0.24324325],\n",
       "       [0.26640925],\n",
       "       [0.2027027 ],\n",
       "       [0.16795367],\n",
       "       [0.13127413],\n",
       "       [0.17374519],\n",
       "       [0.17760617],\n",
       "       [0.17760617],\n",
       "       [0.25482625],\n",
       "       [0.25289574],\n",
       "       [0.24131274],\n",
       "       [0.26833975],\n",
       "       [0.3088803 ],\n",
       "       [0.32432434],\n",
       "       [0.25675675],\n",
       "       [0.20656371],\n",
       "       [0.14671814],\n",
       "       [0.18725869],\n",
       "       [0.19305018],\n",
       "       [0.16216215],\n",
       "       [0.25289574],\n",
       "       [0.23745173],\n",
       "       [0.25096524],\n",
       "       [0.3088803 ],\n",
       "       [0.38223937],\n",
       "       [0.36486486],\n",
       "       [0.2992278 ],\n",
       "       [0.24131274],\n",
       "       [0.1911197 ],\n",
       "       [0.24131274],\n",
       "       [0.26640925],\n",
       "       [0.24903473],\n",
       "       [0.31467178],\n",
       "       [0.3185328 ],\n",
       "       [0.32046333],\n",
       "       [0.4073359 ],\n",
       "       [0.5019305 ],\n",
       "       [0.46911195],\n",
       "       [0.40154442],\n",
       "       [0.32818535],\n",
       "       [0.25675675],\n",
       "       [0.3359073 ],\n",
       "       [0.34749034],\n",
       "       [0.33397684],\n",
       "       [0.41119692],\n",
       "       [0.4034749 ],\n",
       "       [0.4131274 ],\n",
       "       [0.52123547],\n",
       "       [0.5965251 ],\n",
       "       [0.58108103],\n",
       "       [0.484556  ],\n",
       "       [0.3899614 ],\n",
       "       [0.3223938 ],\n",
       "       [0.3899614 ],\n",
       "       [0.4073359 ],\n",
       "       [0.3803089 ],\n",
       "       [0.48648646],\n",
       "       [0.47104248],\n",
       "       [0.484556  ],\n",
       "       [0.6138996 ],\n",
       "       [0.6969112 ],\n",
       "       [0.70077217],\n",
       "       [0.57915056],\n",
       "       [0.46911195],\n",
       "       [0.38803086],\n",
       "       [0.44787642],\n",
       "       [0.45559844],\n",
       "       [0.4131274 ],\n",
       "       [0.4980695 ],\n",
       "       [0.47104248],\n",
       "       [0.49999997],\n",
       "       [0.6389961 ],\n",
       "       [0.7471043 ],\n",
       "       [0.7741313 ],\n",
       "       [0.57915056],\n",
       "       [0.492278  ],\n",
       "       [0.3976834 ],\n",
       "       [0.44980696],\n",
       "       [0.49420848],\n",
       "       [0.45945945],\n",
       "       [0.5830116 ],\n",
       "       [0.5637065 ],\n",
       "       [0.61003864],\n",
       "       [0.71042466],\n",
       "       [0.8571429 ],\n",
       "       [0.8783784 ],\n",
       "       [0.69305015],\n",
       "       [0.5849421 ],\n",
       "       [0.4980695 ],\n",
       "       [0.58108103],\n",
       "       [0.6042471 ],\n",
       "       [0.554054  ],\n",
       "       [0.60810804],\n",
       "       [0.6891892 ],\n",
       "       [0.71042466],\n",
       "       [0.8320464 ],\n",
       "       [1.        ],\n",
       "       [0.96911204],\n",
       "       [0.7799227 ],\n",
       "       [0.6891892 ],\n",
       "       [0.55212355],\n",
       "       [0.6332046 ]], dtype=float32)"
      ]
     },
     "metadata": {},
     "execution_count": 6
    }
   ],
   "source": [
    "# normalize the dataset\n",
    "scaler = MinMaxScaler(feature_range=(0, 1))\n",
    "dataset = scaler.fit_transform(dataset)\n",
    "print(len(dataset))\n",
    "\n",
    "dataset"
   ]
  },
  {
   "cell_type": "code",
   "execution_count": 7,
   "metadata": {},
   "outputs": [
    {
     "output_type": "stream",
     "name": "stdout",
     "text": [
      "[[0.01544401]\n [0.02702703]\n [0.05405405]\n [0.04826255]\n [0.03281853]\n [0.05984557]\n [0.08494207]\n [0.08494207]\n [0.06177607]\n [0.02895753]\n [0.        ]\n [0.02702703]\n [0.02123553]\n [0.04247104]\n [0.07142857]\n [0.05984557]\n [0.04054055]\n [0.08687258]\n [0.12741312]\n [0.12741312]\n [0.10424709]\n [0.05598456]\n [0.01930502]\n [0.06949806]\n [0.07915059]\n [0.08880308]\n [0.14285713]\n [0.11389962]\n [0.13127413]\n [0.14285713]\n [0.18339768]\n [0.18339768]\n [0.15444016]\n [0.11196911]\n [0.08108109]\n [0.1196911 ]\n [0.12934363]\n [0.14671814]\n [0.17181468]\n [0.14864865]\n [0.15250966]\n [0.22007722]\n [0.24324325]\n [0.26640925]\n [0.2027027 ]\n [0.16795367]\n [0.13127413]\n [0.17374519]\n [0.17760617]\n [0.17760617]\n [0.25482625]\n [0.25289574]\n [0.24131274]\n [0.26833975]\n [0.3088803 ]\n [0.32432434]\n [0.25675675]\n [0.20656371]\n [0.14671814]\n [0.18725869]\n [0.19305018]\n [0.16216215]\n [0.25289574]\n [0.23745173]\n [0.25096524]\n [0.3088803 ]\n [0.38223937]\n [0.36486486]\n [0.2992278 ]\n [0.24131274]\n [0.1911197 ]\n [0.24131274]\n [0.26640925]\n [0.24903473]\n [0.31467178]\n [0.3185328 ]\n [0.32046333]\n [0.4073359 ]\n [0.5019305 ]\n [0.46911195]\n [0.40154442]\n [0.32818535]\n [0.25675675]\n [0.3359073 ]\n [0.34749034]\n [0.33397684]\n [0.41119692]\n [0.4034749 ]\n [0.4131274 ]\n [0.52123547]\n [0.5965251 ]\n [0.58108103]\n [0.484556  ]\n [0.3899614 ]\n [0.3223938 ]\n [0.3899614 ]] 48\n"
     ]
    }
   ],
   "source": [
    "train,test=train_test_split(dataset,test_size=0.33,shuffle=False)\n",
    "print(train,len(test))"
   ]
  },
  {
   "cell_type": "code",
   "execution_count": 8,
   "metadata": {},
   "outputs": [],
   "source": [
    "def create_dataset(dataset,look_back=1):\n",
    "    #dataset=tf.squeeze(dataset)\n",
    "    X=[]\n",
    "    y=[]\n",
    "    for i in range(len(dataset)-look_back):\n",
    "        X.append(dataset[i:i+look_back,0])\n",
    "        y.append(dataset[i+look_back,0])\n",
    "    return np.array(X),np.array(y)"
   ]
  },
  {
   "cell_type": "code",
   "execution_count": 9,
   "metadata": {},
   "outputs": [
    {
     "output_type": "stream",
     "name": "stdout",
     "text": [
      "[0.01544401 0.02702703 0.05405405] : 0.04826255\n",
      "[0.02702703 0.05405405 0.04826255] : 0.032818526\n",
      "[0.05405405 0.04826255 0.03281853] : 0.059845567\n",
      "[0.04826255 0.03281853 0.05984557] : 0.08494207\n",
      "[0.03281853 0.05984557 0.08494207] : 0.08494207\n",
      "[0.05984557 0.08494207 0.08494207] : 0.06177607\n",
      "[0.08494207 0.08494207 0.06177607] : 0.02895753\n",
      "[0.08494207 0.06177607 0.02895753] : 0.0\n",
      "[0.06177607 0.02895753 0.        ] : 0.027027026\n",
      "[0.02895753 0.         0.02702703] : 0.021235526\n",
      "[0.         0.02702703 0.02123553] : 0.042471036\n",
      "[0.02702703 0.02123553 0.04247104] : 0.07142857\n",
      "[0.02123553 0.04247104 0.07142857] : 0.059845567\n",
      "[0.04247104 0.07142857 0.05984557] : 0.040540546\n",
      "[0.07142857 0.05984557 0.04054055] : 0.08687258\n",
      "[0.05984557 0.04054055 0.08687258] : 0.12741312\n",
      "[0.04054055 0.08687258 0.12741312] : 0.12741312\n",
      "[0.08687258 0.12741312 0.12741312] : 0.10424709\n",
      "[0.12741312 0.12741312 0.10424709] : 0.055984557\n",
      "[0.12741312 0.10424709 0.05598456] : 0.01930502\n",
      "[0.10424709 0.05598456 0.01930502] : 0.06949806\n",
      "[0.05598456 0.01930502 0.06949806] : 0.07915059\n",
      "[0.01930502 0.06949806 0.07915059] : 0.08880308\n",
      "[0.06949806 0.07915059 0.08880308] : 0.14285713\n",
      "[0.07915059 0.08880308 0.14285713] : 0.11389962\n",
      "[0.08880308 0.14285713 0.11389962] : 0.13127413\n",
      "[0.14285713 0.11389962 0.13127413] : 0.14285713\n",
      "[0.11389962 0.13127413 0.14285713] : 0.18339768\n",
      "[0.13127413 0.14285713 0.18339768] : 0.18339768\n",
      "[0.14285713 0.18339768 0.18339768] : 0.15444016\n",
      "[0.18339768 0.18339768 0.15444016] : 0.11196911\n",
      "[0.18339768 0.15444016 0.11196911] : 0.08108109\n",
      "[0.15444016 0.11196911 0.08108109] : 0.1196911\n",
      "[0.11196911 0.08108109 0.1196911 ] : 0.12934363\n",
      "[0.08108109 0.1196911  0.12934363] : 0.14671814\n",
      "[0.1196911  0.12934363 0.14671814] : 0.17181468\n",
      "[0.12934363 0.14671814 0.17181468] : 0.14864865\n",
      "[0.14671814 0.17181468 0.14864865] : 0.15250966\n",
      "[0.17181468 0.14864865 0.15250966] : 0.22007722\n",
      "[0.14864865 0.15250966 0.22007722] : 0.24324325\n",
      "[0.15250966 0.22007722 0.24324325] : 0.26640925\n",
      "[0.22007722 0.24324325 0.26640925] : 0.2027027\n",
      "[0.24324325 0.26640925 0.2027027 ] : 0.16795367\n",
      "[0.26640925 0.2027027  0.16795367] : 0.13127413\n",
      "[0.2027027  0.16795367 0.13127413] : 0.17374519\n",
      "[0.16795367 0.13127413 0.17374519] : 0.17760617\n",
      "[0.13127413 0.17374519 0.17760617] : 0.17760617\n",
      "[0.17374519 0.17760617 0.17760617] : 0.25482625\n",
      "[0.17760617 0.17760617 0.25482625] : 0.25289574\n",
      "[0.17760617 0.25482625 0.25289574] : 0.24131274\n",
      "[0.25482625 0.25289574 0.24131274] : 0.26833975\n",
      "[0.25289574 0.24131274 0.26833975] : 0.3088803\n",
      "[0.24131274 0.26833975 0.3088803 ] : 0.32432434\n",
      "[0.26833975 0.3088803  0.32432434] : 0.25675675\n",
      "[0.3088803  0.32432434 0.25675675] : 0.20656371\n",
      "[0.32432434 0.25675675 0.20656371] : 0.14671814\n",
      "[0.25675675 0.20656371 0.14671814] : 0.18725869\n",
      "[0.20656371 0.14671814 0.18725869] : 0.19305018\n",
      "[0.14671814 0.18725869 0.19305018] : 0.16216215\n",
      "[0.18725869 0.19305018 0.16216215] : 0.25289574\n",
      "[0.19305018 0.16216215 0.25289574] : 0.23745173\n",
      "[0.16216215 0.25289574 0.23745173] : 0.25096524\n",
      "[0.25289574 0.23745173 0.25096524] : 0.3088803\n",
      "[0.23745173 0.25096524 0.3088803 ] : 0.38223937\n",
      "[0.25096524 0.3088803  0.38223937] : 0.36486486\n",
      "[0.3088803  0.38223937 0.36486486] : 0.2992278\n",
      "[0.38223937 0.36486486 0.2992278 ] : 0.24131274\n",
      "[0.36486486 0.2992278  0.24131274] : 0.1911197\n",
      "[0.2992278  0.24131274 0.1911197 ] : 0.24131274\n",
      "[0.24131274 0.1911197  0.24131274] : 0.26640925\n",
      "[0.1911197  0.24131274 0.26640925] : 0.24903473\n",
      "[0.24131274 0.26640925 0.24903473] : 0.31467178\n",
      "[0.26640925 0.24903473 0.31467178] : 0.3185328\n",
      "[0.24903473 0.31467178 0.3185328 ] : 0.32046333\n",
      "[0.31467178 0.3185328  0.32046333] : 0.4073359\n",
      "[0.3185328  0.32046333 0.4073359 ] : 0.5019305\n",
      "[0.32046333 0.4073359  0.5019305 ] : 0.46911195\n",
      "[0.4073359  0.5019305  0.46911195] : 0.40154442\n",
      "[0.5019305  0.46911195 0.40154442] : 0.32818535\n",
      "[0.46911195 0.40154442 0.32818535] : 0.25675675\n",
      "[0.40154442 0.32818535 0.25675675] : 0.3359073\n",
      "[0.32818535 0.25675675 0.3359073 ] : 0.34749034\n",
      "[0.25675675 0.3359073  0.34749034] : 0.33397684\n",
      "[0.3359073  0.34749034 0.33397684] : 0.41119692\n",
      "[0.34749034 0.33397684 0.41119692] : 0.4034749\n",
      "[0.33397684 0.41119692 0.4034749 ] : 0.4131274\n",
      "[0.41119692 0.4034749  0.4131274 ] : 0.52123547\n",
      "[0.4034749  0.4131274  0.52123547] : 0.5965251\n",
      "[0.4131274  0.52123547 0.5965251 ] : 0.58108103\n",
      "[0.52123547 0.5965251  0.58108103] : 0.484556\n",
      "[0.5965251  0.58108103 0.484556  ] : 0.3899614\n",
      "[0.58108103 0.484556   0.3899614 ] : 0.3223938\n",
      "[0.484556  0.3899614 0.3223938] : 0.3899614\n"
     ]
    }
   ],
   "source": [
    "look_back=3\n",
    "X_train,y_train=create_dataset(train,look_back)\n",
    "X_test,y_test=create_dataset(test,look_back)\n",
    "for i in range(len(X_train)):\n",
    "    print(X_train[i],\":\",y_train[i])\n"
   ]
  },
  {
   "cell_type": "code",
   "execution_count": 10,
   "metadata": {},
   "outputs": [
    {
     "output_type": "stream",
     "name": "stdout",
     "text": [
      "(93, 3, 1)\n(45, 3, 1)\n"
     ]
    }
   ],
   "source": [
    "# reshape input to shape [samples,time_steps,features]\n",
    "X_train=np.reshape(X_train,(X_train.shape[0],look_back,-1))\n",
    "X_test=np.reshape(X_test,(X_test.shape[0],look_back,-1))\n",
    "print(X_train.shape)\n",
    "print(X_test.shape)"
   ]
  },
  {
   "cell_type": "code",
   "execution_count": 14,
   "metadata": {
    "tags": []
   },
   "outputs": [
    {
     "output_type": "stream",
     "name": "stdout",
     "text": [
      "31/31 [==============================] - 21s 2ms/step - loss: 0.0158\n",
      "31/31 [==============================] - 0s 2ms/step - loss: 0.0119\n",
      "31/31 [==============================] - 0s 1ms/step - loss: 0.0130\n",
      "31/31 [==============================] - 0s 2ms/step - loss: 0.0119\n",
      "31/31 [==============================] - 0s 4ms/step - loss: 0.0105\n",
      "31/31 [==============================] - 0s 2ms/step - loss: 0.0094\n",
      "31/31 [==============================] - 0s 2ms/step - loss: 0.0083\n",
      "31/31 [==============================] - 0s 2ms/step - loss: 0.0074\n",
      "31/31 [==============================] - 0s 4ms/step - loss: 0.0065\n",
      "31/31 [==============================] - 0s 5ms/step - loss: 0.0058\n",
      "31/31 [==============================] - 0s 2ms/step - loss: 0.0052\n",
      "31/31 [==============================] - 0s 2ms/step - loss: 0.0048\n",
      "31/31 [==============================] - 0s 4ms/step - loss: 0.0044\n",
      "31/31 [==============================] - 0s 2ms/step - loss: 0.0042\n",
      "31/31 [==============================] - 0s 2ms/step - loss: 0.0040\n",
      "31/31 [==============================] - 0s 2ms/step - loss: 0.0040\n",
      "31/31 [==============================] - 0s 3ms/step - loss: 0.0039\n",
      "31/31 [==============================] - 0s 2ms/step - loss: 0.0039\n",
      "31/31 [==============================] - 0s 2ms/step - loss: 0.0038\n",
      "31/31 [==============================] - 0s 2ms/step - loss: 0.0038\n",
      "31/31 [==============================] - 0s 4ms/step - loss: 0.0038\n",
      "31/31 [==============================] - 0s 2ms/step - loss: 0.0038\n",
      "31/31 [==============================] - 0s 2ms/step - loss: 0.0038\n",
      "31/31 [==============================] - 0s 2ms/step - loss: 0.0038\n",
      "31/31 [==============================] - 0s 2ms/step - loss: 0.0038\n",
      "31/31 [==============================] - 0s 2ms/step - loss: 0.0037\n",
      "31/31 [==============================] - 0s 2ms/step - loss: 0.0037\n",
      "31/31 [==============================] - 0s 2ms/step - loss: 0.0037\n",
      "31/31 [==============================] - 0s 2ms/step - loss: 0.0037\n",
      "31/31 [==============================] - 0s 2ms/step - loss: 0.0037\n",
      "31/31 [==============================] - 0s 5ms/step - loss: 0.0037\n",
      "31/31 [==============================] - 0s 1ms/step - loss: 0.0037\n",
      "31/31 [==============================] - 0s 2ms/step - loss: 0.0037\n",
      "31/31 [==============================] - 0s 2ms/step - loss: 0.0037\n",
      "31/31 [==============================] - 0s 2ms/step - loss: 0.0037\n",
      "31/31 [==============================] - 0s 5ms/step - loss: 0.0036\n",
      "31/31 [==============================] - 0s 2ms/step - loss: 0.0036\n",
      "31/31 [==============================] - 0s 2ms/step - loss: 0.0036\n",
      "31/31 [==============================] - 0s 2ms/step - loss: 0.0036\n",
      "31/31 [==============================] - 0s 2ms/step - loss: 0.0036\n",
      "31/31 [==============================] - 0s 2ms/step - loss: 0.0036\n",
      "31/31 [==============================] - 0s 2ms/step - loss: 0.0036\n",
      "31/31 [==============================] - 0s 2ms/step - loss: 0.0036\n",
      "31/31 [==============================] - 0s 2ms/step - loss: 0.0036\n",
      "31/31 [==============================] - 0s 2ms/step - loss: 0.0036\n",
      "31/31 [==============================] - 0s 5ms/step - loss: 0.0036\n",
      "31/31 [==============================] - 0s 2ms/step - loss: 0.0036\n",
      "31/31 [==============================] - 0s 2ms/step - loss: 0.0035\n",
      "31/31 [==============================] - 0s 2ms/step - loss: 0.0035\n",
      "31/31 [==============================] - 0s 2ms/step - loss: 0.0035\n",
      "31/31 [==============================] - 0s 2ms/step - loss: 0.0035\n",
      "31/31 [==============================] - 0s 2ms/step - loss: 0.0035\n",
      "31/31 [==============================] - 0s 2ms/step - loss: 0.0035\n",
      "31/31 [==============================] - 0s 2ms/step - loss: 0.0035\n",
      "31/31 [==============================] - 0s 2ms/step - loss: 0.0035\n",
      "31/31 [==============================] - 0s 5ms/step - loss: 0.0035\n",
      "31/31 [==============================] - 0s 2ms/step - loss: 0.0035\n",
      "31/31 [==============================] - 0s 1ms/step - loss: 0.0035\n",
      "31/31 [==============================] - 0s 1ms/step - loss: 0.0035\n",
      "31/31 [==============================] - 0s 2ms/step - loss: 0.0034\n",
      "31/31 [==============================] - 0s 2ms/step - loss: 0.0034\n",
      "31/31 [==============================] - 0s 2ms/step - loss: 0.0034\n",
      "31/31 [==============================] - 0s 4ms/step - loss: 0.0034\n",
      "31/31 [==============================] - 0s 2ms/step - loss: 0.0034\n",
      "31/31 [==============================] - 0s 2ms/step - loss: 0.0034\n",
      "31/31 [==============================] - 0s 6ms/step - loss: 0.0034\n",
      "31/31 [==============================] - 0s 2ms/step - loss: 0.0034\n",
      "31/31 [==============================] - 0s 2ms/step - loss: 0.0034\n",
      "31/31 [==============================] - 0s 2ms/step - loss: 0.0034\n",
      "31/31 [==============================] - 0s 2ms/step - loss: 0.0034\n",
      "31/31 [==============================] - 0s 2ms/step - loss: 0.0034\n",
      "31/31 [==============================] - 0s 5ms/step - loss: 0.0034\n",
      "31/31 [==============================] - 0s 2ms/step - loss: 0.0034\n",
      "31/31 [==============================] - 0s 2ms/step - loss: 0.0033\n",
      "31/31 [==============================] - 0s 2ms/step - loss: 0.0033\n",
      "31/31 [==============================] - 0s 4ms/step - loss: 0.0033\n",
      "31/31 [==============================] - 0s 3ms/step - loss: 0.0033\n",
      "31/31 [==============================] - 0s 4ms/step - loss: 0.0033\n",
      "31/31 [==============================] - 0s 2ms/step - loss: 0.0033\n",
      "31/31 [==============================] - 0s 2ms/step - loss: 0.0033\n",
      "31/31 [==============================] - 0s 4ms/step - loss: 0.0033\n",
      "31/31 [==============================] - 0s 2ms/step - loss: 0.0033\n",
      "31/31 [==============================] - 0s 2ms/step - loss: 0.0033\n",
      "31/31 [==============================] - 0s 5ms/step - loss: 0.0033\n",
      "31/31 [==============================] - 0s 4ms/step - loss: 0.0033\n",
      "31/31 [==============================] - 0s 2ms/step - loss: 0.0033\n",
      "31/31 [==============================] - 0s 5ms/step - loss: 0.0033\n",
      "31/31 [==============================] - 0s 3ms/step - loss: 0.0032\n",
      "31/31 [==============================] - 0s 3ms/step - loss: 0.0032\n",
      "31/31 [==============================] - 0s 2ms/step - loss: 0.0032\n",
      "31/31 [==============================] - 0s 2ms/step - loss: 0.0032\n",
      "31/31 [==============================] - 0s 2ms/step - loss: 0.0032\n",
      "31/31 [==============================] - 0s 2ms/step - loss: 0.0032\n",
      "31/31 [==============================] - 0s 5ms/step - loss: 0.0032\n",
      "31/31 [==============================] - 0s 2ms/step - loss: 0.0032\n",
      "31/31 [==============================] - 0s 2ms/step - loss: 0.0032\n",
      "31/31 [==============================] - 0s 2ms/step - loss: 0.0032\n",
      "31/31 [==============================] - 0s 2ms/step - loss: 0.0032\n",
      "31/31 [==============================] - 0s 2ms/step - loss: 0.0032\n",
      "31/31 [==============================] - 0s 6ms/step - loss: 0.0032\n"
     ]
    }
   ],
   "source": [
    "batch_size=3\n",
    "model=Sequential()\n",
    "model.add(LSTM(4,batch_input_shape=(batch_size,look_back,1),stateful=True))\n",
    "model.add(Dense(1))\n",
    "model.compile(loss='mse',optimizer='adam')\n",
    "for epoch in range(100):    \n",
    "    model.fit(X_train,y_train,batch_size=batch_size,epochs=1,verbose=1,shuffle=False)\n",
    "    model.reset_states()\n"
   ]
  },
  {
   "cell_type": "code",
   "execution_count": 15,
   "metadata": {},
   "outputs": [
    {
     "output_type": "stream",
     "name": "stdout",
     "text": [
      "(93, 1)\n(93, 1)\nTrain Score: 28.89 RMSE\nTest Score: 65.55 RMSE\n"
     ]
    }
   ],
   "source": [
    "trainPred=scaler.inverse_transform(model.predict(X_train,batch_size=batch_size)) \n",
    "testPred=scaler.inverse_transform(model.predict(X_test,batch_size=batch_size))\n",
    "y_train=scaler.inverse_transform([y_train]).T\n",
    "y_test=scaler.inverse_transform([y_test]).T\n",
    "print(trainPred.shape)\n",
    "print(y_train.shape)\n",
    "trainScore = math.sqrt(mean_squared_error(y_train[:,0], trainPred[:,0]))\n",
    "print('Train Score: %.2f RMSE' % (trainScore))\n",
    "testScore = math.sqrt(mean_squared_error(y_test[:,0], testPred[:,0]))\n",
    "print('Test Score: %.2f RMSE' % (testScore))\n"
   ]
  },
  {
   "cell_type": "code",
   "execution_count": 16,
   "metadata": {},
   "outputs": [
    {
     "output_type": "display_data",
     "data": {
      "text/plain": "<Figure size 432x288 with 1 Axes>",
      "image/svg+xml": "<?xml version=\"1.0\" encoding=\"utf-8\" standalone=\"no\"?>\r\n<!DOCTYPE svg PUBLIC \"-//W3C//DTD SVG 1.1//EN\"\r\n  \"http://www.w3.org/Graphics/SVG/1.1/DTD/svg11.dtd\">\r\n<svg height=\"248.518125pt\" version=\"1.1\" viewBox=\"0 0 375.2875 248.518125\" width=\"375.2875pt\" xmlns=\"http://www.w3.org/2000/svg\" xmlns:xlink=\"http://www.w3.org/1999/xlink\">\r\n <metadata>\r\n  <rdf:RDF xmlns:cc=\"http://creativecommons.org/ns#\" xmlns:dc=\"http://purl.org/dc/elements/1.1/\" xmlns:rdf=\"http://www.w3.org/1999/02/22-rdf-syntax-ns#\">\r\n   <cc:Work>\r\n    <dc:type rdf:resource=\"http://purl.org/dc/dcmitype/StillImage\"/>\r\n    <dc:date>2021-07-01T09:27:35.555650</dc:date>\r\n    <dc:format>image/svg+xml</dc:format>\r\n    <dc:creator>\r\n     <cc:Agent>\r\n      <dc:title>Matplotlib v3.4.2, https://matplotlib.org/</dc:title>\r\n     </cc:Agent>\r\n    </dc:creator>\r\n   </cc:Work>\r\n  </rdf:RDF>\r\n </metadata>\r\n <defs>\r\n  <style type=\"text/css\">*{stroke-linecap:butt;stroke-linejoin:round;}</style>\r\n </defs>\r\n <g id=\"figure_1\">\r\n  <g id=\"patch_1\">\r\n   <path d=\"M 0 248.518125 \r\nL 375.2875 248.518125 \r\nL 375.2875 0 \r\nL 0 0 \r\nz\r\n\" style=\"fill:none;\"/>\r\n  </g>\r\n  <g id=\"axes_1\">\r\n   <g id=\"patch_2\">\r\n    <path d=\"M 33.2875 224.64 \r\nL 368.0875 224.64 \r\nL 368.0875 7.2 \r\nL 33.2875 7.2 \r\nz\r\n\" style=\"fill:#ffffff;\"/>\r\n   </g>\r\n   <g id=\"matplotlib.axis_1\">\r\n    <g id=\"xtick_1\">\r\n     <g id=\"line2d_1\">\r\n      <defs>\r\n       <path d=\"M 0 0 \r\nL 0 3.5 \r\n\" id=\"m9661836d3a\" style=\"stroke:#000000;stroke-width:0.8;\"/>\r\n      </defs>\r\n      <g>\r\n       <use style=\"stroke:#000000;stroke-width:0.8;\" x=\"48.505682\" xlink:href=\"#m9661836d3a\" y=\"224.64\"/>\r\n      </g>\r\n     </g>\r\n     <g id=\"text_1\">\r\n      <!-- 0 -->\r\n      <g transform=\"translate(45.324432 239.238437)scale(0.1 -0.1)\">\r\n       <defs>\r\n        <path d=\"M 2034 4250 \r\nQ 1547 4250 1301 3770 \r\nQ 1056 3291 1056 2328 \r\nQ 1056 1369 1301 889 \r\nQ 1547 409 2034 409 \r\nQ 2525 409 2770 889 \r\nQ 3016 1369 3016 2328 \r\nQ 3016 3291 2770 3770 \r\nQ 2525 4250 2034 4250 \r\nz\r\nM 2034 4750 \r\nQ 2819 4750 3233 4129 \r\nQ 3647 3509 3647 2328 \r\nQ 3647 1150 3233 529 \r\nQ 2819 -91 2034 -91 \r\nQ 1250 -91 836 529 \r\nQ 422 1150 422 2328 \r\nQ 422 3509 836 4129 \r\nQ 1250 4750 2034 4750 \r\nz\r\n\" id=\"DejaVuSans-30\" transform=\"scale(0.015625)\"/>\r\n       </defs>\r\n       <use xlink:href=\"#DejaVuSans-30\"/>\r\n      </g>\r\n     </g>\r\n    </g>\r\n    <g id=\"xtick_2\">\r\n     <g id=\"line2d_2\">\r\n      <g>\r\n       <use style=\"stroke:#000000;stroke-width:0.8;\" x=\"91.074023\" xlink:href=\"#m9661836d3a\" y=\"224.64\"/>\r\n      </g>\r\n     </g>\r\n     <g id=\"text_2\">\r\n      <!-- 20 -->\r\n      <g transform=\"translate(84.711523 239.238437)scale(0.1 -0.1)\">\r\n       <defs>\r\n        <path d=\"M 1228 531 \r\nL 3431 531 \r\nL 3431 0 \r\nL 469 0 \r\nL 469 531 \r\nQ 828 903 1448 1529 \r\nQ 2069 2156 2228 2338 \r\nQ 2531 2678 2651 2914 \r\nQ 2772 3150 2772 3378 \r\nQ 2772 3750 2511 3984 \r\nQ 2250 4219 1831 4219 \r\nQ 1534 4219 1204 4116 \r\nQ 875 4013 500 3803 \r\nL 500 4441 \r\nQ 881 4594 1212 4672 \r\nQ 1544 4750 1819 4750 \r\nQ 2544 4750 2975 4387 \r\nQ 3406 4025 3406 3419 \r\nQ 3406 3131 3298 2873 \r\nQ 3191 2616 2906 2266 \r\nQ 2828 2175 2409 1742 \r\nQ 1991 1309 1228 531 \r\nz\r\n\" id=\"DejaVuSans-32\" transform=\"scale(0.015625)\"/>\r\n       </defs>\r\n       <use xlink:href=\"#DejaVuSans-32\"/>\r\n       <use x=\"63.623047\" xlink:href=\"#DejaVuSans-30\"/>\r\n      </g>\r\n     </g>\r\n    </g>\r\n    <g id=\"xtick_3\">\r\n     <g id=\"line2d_3\">\r\n      <g>\r\n       <use style=\"stroke:#000000;stroke-width:0.8;\" x=\"133.642363\" xlink:href=\"#m9661836d3a\" y=\"224.64\"/>\r\n      </g>\r\n     </g>\r\n     <g id=\"text_3\">\r\n      <!-- 40 -->\r\n      <g transform=\"translate(127.279863 239.238437)scale(0.1 -0.1)\">\r\n       <defs>\r\n        <path d=\"M 2419 4116 \r\nL 825 1625 \r\nL 2419 1625 \r\nL 2419 4116 \r\nz\r\nM 2253 4666 \r\nL 3047 4666 \r\nL 3047 1625 \r\nL 3713 1625 \r\nL 3713 1100 \r\nL 3047 1100 \r\nL 3047 0 \r\nL 2419 0 \r\nL 2419 1100 \r\nL 313 1100 \r\nL 313 1709 \r\nL 2253 4666 \r\nz\r\n\" id=\"DejaVuSans-34\" transform=\"scale(0.015625)\"/>\r\n       </defs>\r\n       <use xlink:href=\"#DejaVuSans-34\"/>\r\n       <use x=\"63.623047\" xlink:href=\"#DejaVuSans-30\"/>\r\n      </g>\r\n     </g>\r\n    </g>\r\n    <g id=\"xtick_4\">\r\n     <g id=\"line2d_4\">\r\n      <g>\r\n       <use style=\"stroke:#000000;stroke-width:0.8;\" x=\"176.210704\" xlink:href=\"#m9661836d3a\" y=\"224.64\"/>\r\n      </g>\r\n     </g>\r\n     <g id=\"text_4\">\r\n      <!-- 60 -->\r\n      <g transform=\"translate(169.848204 239.238437)scale(0.1 -0.1)\">\r\n       <defs>\r\n        <path d=\"M 2113 2584 \r\nQ 1688 2584 1439 2293 \r\nQ 1191 2003 1191 1497 \r\nQ 1191 994 1439 701 \r\nQ 1688 409 2113 409 \r\nQ 2538 409 2786 701 \r\nQ 3034 994 3034 1497 \r\nQ 3034 2003 2786 2293 \r\nQ 2538 2584 2113 2584 \r\nz\r\nM 3366 4563 \r\nL 3366 3988 \r\nQ 3128 4100 2886 4159 \r\nQ 2644 4219 2406 4219 \r\nQ 1781 4219 1451 3797 \r\nQ 1122 3375 1075 2522 \r\nQ 1259 2794 1537 2939 \r\nQ 1816 3084 2150 3084 \r\nQ 2853 3084 3261 2657 \r\nQ 3669 2231 3669 1497 \r\nQ 3669 778 3244 343 \r\nQ 2819 -91 2113 -91 \r\nQ 1303 -91 875 529 \r\nQ 447 1150 447 2328 \r\nQ 447 3434 972 4092 \r\nQ 1497 4750 2381 4750 \r\nQ 2619 4750 2861 4703 \r\nQ 3103 4656 3366 4563 \r\nz\r\n\" id=\"DejaVuSans-36\" transform=\"scale(0.015625)\"/>\r\n       </defs>\r\n       <use xlink:href=\"#DejaVuSans-36\"/>\r\n       <use x=\"63.623047\" xlink:href=\"#DejaVuSans-30\"/>\r\n      </g>\r\n     </g>\r\n    </g>\r\n    <g id=\"xtick_5\">\r\n     <g id=\"line2d_5\">\r\n      <g>\r\n       <use style=\"stroke:#000000;stroke-width:0.8;\" x=\"218.779045\" xlink:href=\"#m9661836d3a\" y=\"224.64\"/>\r\n      </g>\r\n     </g>\r\n     <g id=\"text_5\">\r\n      <!-- 80 -->\r\n      <g transform=\"translate(212.416545 239.238437)scale(0.1 -0.1)\">\r\n       <defs>\r\n        <path d=\"M 2034 2216 \r\nQ 1584 2216 1326 1975 \r\nQ 1069 1734 1069 1313 \r\nQ 1069 891 1326 650 \r\nQ 1584 409 2034 409 \r\nQ 2484 409 2743 651 \r\nQ 3003 894 3003 1313 \r\nQ 3003 1734 2745 1975 \r\nQ 2488 2216 2034 2216 \r\nz\r\nM 1403 2484 \r\nQ 997 2584 770 2862 \r\nQ 544 3141 544 3541 \r\nQ 544 4100 942 4425 \r\nQ 1341 4750 2034 4750 \r\nQ 2731 4750 3128 4425 \r\nQ 3525 4100 3525 3541 \r\nQ 3525 3141 3298 2862 \r\nQ 3072 2584 2669 2484 \r\nQ 3125 2378 3379 2068 \r\nQ 3634 1759 3634 1313 \r\nQ 3634 634 3220 271 \r\nQ 2806 -91 2034 -91 \r\nQ 1263 -91 848 271 \r\nQ 434 634 434 1313 \r\nQ 434 1759 690 2068 \r\nQ 947 2378 1403 2484 \r\nz\r\nM 1172 3481 \r\nQ 1172 3119 1398 2916 \r\nQ 1625 2713 2034 2713 \r\nQ 2441 2713 2670 2916 \r\nQ 2900 3119 2900 3481 \r\nQ 2900 3844 2670 4047 \r\nQ 2441 4250 2034 4250 \r\nQ 1625 4250 1398 4047 \r\nQ 1172 3844 1172 3481 \r\nz\r\n\" id=\"DejaVuSans-38\" transform=\"scale(0.015625)\"/>\r\n       </defs>\r\n       <use xlink:href=\"#DejaVuSans-38\"/>\r\n       <use x=\"63.623047\" xlink:href=\"#DejaVuSans-30\"/>\r\n      </g>\r\n     </g>\r\n    </g>\r\n    <g id=\"xtick_6\">\r\n     <g id=\"line2d_6\">\r\n      <g>\r\n       <use style=\"stroke:#000000;stroke-width:0.8;\" x=\"261.347386\" xlink:href=\"#m9661836d3a\" y=\"224.64\"/>\r\n      </g>\r\n     </g>\r\n     <g id=\"text_6\">\r\n      <!-- 100 -->\r\n      <g transform=\"translate(251.803636 239.238437)scale(0.1 -0.1)\">\r\n       <defs>\r\n        <path d=\"M 794 531 \r\nL 1825 531 \r\nL 1825 4091 \r\nL 703 3866 \r\nL 703 4441 \r\nL 1819 4666 \r\nL 2450 4666 \r\nL 2450 531 \r\nL 3481 531 \r\nL 3481 0 \r\nL 794 0 \r\nL 794 531 \r\nz\r\n\" id=\"DejaVuSans-31\" transform=\"scale(0.015625)\"/>\r\n       </defs>\r\n       <use xlink:href=\"#DejaVuSans-31\"/>\r\n       <use x=\"63.623047\" xlink:href=\"#DejaVuSans-30\"/>\r\n       <use x=\"127.246094\" xlink:href=\"#DejaVuSans-30\"/>\r\n      </g>\r\n     </g>\r\n    </g>\r\n    <g id=\"xtick_7\">\r\n     <g id=\"line2d_7\">\r\n      <g>\r\n       <use style=\"stroke:#000000;stroke-width:0.8;\" x=\"303.915726\" xlink:href=\"#m9661836d3a\" y=\"224.64\"/>\r\n      </g>\r\n     </g>\r\n     <g id=\"text_7\">\r\n      <!-- 120 -->\r\n      <g transform=\"translate(294.371976 239.238437)scale(0.1 -0.1)\">\r\n       <use xlink:href=\"#DejaVuSans-31\"/>\r\n       <use x=\"63.623047\" xlink:href=\"#DejaVuSans-32\"/>\r\n       <use x=\"127.246094\" xlink:href=\"#DejaVuSans-30\"/>\r\n      </g>\r\n     </g>\r\n    </g>\r\n    <g id=\"xtick_8\">\r\n     <g id=\"line2d_8\">\r\n      <g>\r\n       <use style=\"stroke:#000000;stroke-width:0.8;\" x=\"346.484067\" xlink:href=\"#m9661836d3a\" y=\"224.64\"/>\r\n      </g>\r\n     </g>\r\n     <g id=\"text_8\">\r\n      <!-- 140 -->\r\n      <g transform=\"translate(336.940317 239.238437)scale(0.1 -0.1)\">\r\n       <use xlink:href=\"#DejaVuSans-31\"/>\r\n       <use x=\"63.623047\" xlink:href=\"#DejaVuSans-34\"/>\r\n       <use x=\"127.246094\" xlink:href=\"#DejaVuSans-30\"/>\r\n      </g>\r\n     </g>\r\n    </g>\r\n   </g>\r\n   <g id=\"matplotlib.axis_2\">\r\n    <g id=\"ytick_1\">\r\n     <g id=\"line2d_9\">\r\n      <defs>\r\n       <path d=\"M 0 0 \r\nL -3.5 0 \r\n\" id=\"mdc7b0f22a5\" style=\"stroke:#000000;stroke-width:0.8;\"/>\r\n      </defs>\r\n      <g>\r\n       <use style=\"stroke:#000000;stroke-width:0.8;\" x=\"33.2875\" xlink:href=\"#mdc7b0f22a5\" y=\"216.282794\"/>\r\n      </g>\r\n     </g>\r\n     <g id=\"text_9\">\r\n      <!-- 100 -->\r\n      <g transform=\"translate(7.2 220.082013)scale(0.1 -0.1)\">\r\n       <use xlink:href=\"#DejaVuSans-31\"/>\r\n       <use x=\"63.623047\" xlink:href=\"#DejaVuSans-30\"/>\r\n       <use x=\"127.246094\" xlink:href=\"#DejaVuSans-30\"/>\r\n      </g>\r\n     </g>\r\n    </g>\r\n    <g id=\"ytick_2\">\r\n     <g id=\"line2d_10\">\r\n      <g>\r\n       <use style=\"stroke:#000000;stroke-width:0.8;\" x=\"33.2875\" xlink:href=\"#mdc7b0f22a5\" y=\"178.122036\"/>\r\n      </g>\r\n     </g>\r\n     <g id=\"text_10\">\r\n      <!-- 200 -->\r\n      <g transform=\"translate(7.2 181.921255)scale(0.1 -0.1)\">\r\n       <use xlink:href=\"#DejaVuSans-32\"/>\r\n       <use x=\"63.623047\" xlink:href=\"#DejaVuSans-30\"/>\r\n       <use x=\"127.246094\" xlink:href=\"#DejaVuSans-30\"/>\r\n      </g>\r\n     </g>\r\n    </g>\r\n    <g id=\"ytick_3\">\r\n     <g id=\"line2d_11\">\r\n      <g>\r\n       <use style=\"stroke:#000000;stroke-width:0.8;\" x=\"33.2875\" xlink:href=\"#mdc7b0f22a5\" y=\"139.961278\"/>\r\n      </g>\r\n     </g>\r\n     <g id=\"text_11\">\r\n      <!-- 300 -->\r\n      <g transform=\"translate(7.2 143.760496)scale(0.1 -0.1)\">\r\n       <defs>\r\n        <path d=\"M 2597 2516 \r\nQ 3050 2419 3304 2112 \r\nQ 3559 1806 3559 1356 \r\nQ 3559 666 3084 287 \r\nQ 2609 -91 1734 -91 \r\nQ 1441 -91 1130 -33 \r\nQ 819 25 488 141 \r\nL 488 750 \r\nQ 750 597 1062 519 \r\nQ 1375 441 1716 441 \r\nQ 2309 441 2620 675 \r\nQ 2931 909 2931 1356 \r\nQ 2931 1769 2642 2001 \r\nQ 2353 2234 1838 2234 \r\nL 1294 2234 \r\nL 1294 2753 \r\nL 1863 2753 \r\nQ 2328 2753 2575 2939 \r\nQ 2822 3125 2822 3475 \r\nQ 2822 3834 2567 4026 \r\nQ 2313 4219 1838 4219 \r\nQ 1578 4219 1281 4162 \r\nQ 984 4106 628 3988 \r\nL 628 4550 \r\nQ 988 4650 1302 4700 \r\nQ 1616 4750 1894 4750 \r\nQ 2613 4750 3031 4423 \r\nQ 3450 4097 3450 3541 \r\nQ 3450 3153 3228 2886 \r\nQ 3006 2619 2597 2516 \r\nz\r\n\" id=\"DejaVuSans-33\" transform=\"scale(0.015625)\"/>\r\n       </defs>\r\n       <use xlink:href=\"#DejaVuSans-33\"/>\r\n       <use x=\"63.623047\" xlink:href=\"#DejaVuSans-30\"/>\r\n       <use x=\"127.246094\" xlink:href=\"#DejaVuSans-30\"/>\r\n      </g>\r\n     </g>\r\n    </g>\r\n    <g id=\"ytick_4\">\r\n     <g id=\"line2d_12\">\r\n      <g>\r\n       <use style=\"stroke:#000000;stroke-width:0.8;\" x=\"33.2875\" xlink:href=\"#mdc7b0f22a5\" y=\"101.800519\"/>\r\n      </g>\r\n     </g>\r\n     <g id=\"text_12\">\r\n      <!-- 400 -->\r\n      <g transform=\"translate(7.2 105.599738)scale(0.1 -0.1)\">\r\n       <use xlink:href=\"#DejaVuSans-34\"/>\r\n       <use x=\"63.623047\" xlink:href=\"#DejaVuSans-30\"/>\r\n       <use x=\"127.246094\" xlink:href=\"#DejaVuSans-30\"/>\r\n      </g>\r\n     </g>\r\n    </g>\r\n    <g id=\"ytick_5\">\r\n     <g id=\"line2d_13\">\r\n      <g>\r\n       <use style=\"stroke:#000000;stroke-width:0.8;\" x=\"33.2875\" xlink:href=\"#mdc7b0f22a5\" y=\"63.639761\"/>\r\n      </g>\r\n     </g>\r\n     <g id=\"text_13\">\r\n      <!-- 500 -->\r\n      <g transform=\"translate(7.2 67.43898)scale(0.1 -0.1)\">\r\n       <defs>\r\n        <path d=\"M 691 4666 \r\nL 3169 4666 \r\nL 3169 4134 \r\nL 1269 4134 \r\nL 1269 2991 \r\nQ 1406 3038 1543 3061 \r\nQ 1681 3084 1819 3084 \r\nQ 2600 3084 3056 2656 \r\nQ 3513 2228 3513 1497 \r\nQ 3513 744 3044 326 \r\nQ 2575 -91 1722 -91 \r\nQ 1428 -91 1123 -41 \r\nQ 819 9 494 109 \r\nL 494 744 \r\nQ 775 591 1075 516 \r\nQ 1375 441 1709 441 \r\nQ 2250 441 2565 725 \r\nQ 2881 1009 2881 1497 \r\nQ 2881 1984 2565 2268 \r\nQ 2250 2553 1709 2553 \r\nQ 1456 2553 1204 2497 \r\nQ 953 2441 691 2322 \r\nL 691 4666 \r\nz\r\n\" id=\"DejaVuSans-35\" transform=\"scale(0.015625)\"/>\r\n       </defs>\r\n       <use xlink:href=\"#DejaVuSans-35\"/>\r\n       <use x=\"63.623047\" xlink:href=\"#DejaVuSans-30\"/>\r\n       <use x=\"127.246094\" xlink:href=\"#DejaVuSans-30\"/>\r\n      </g>\r\n     </g>\r\n    </g>\r\n    <g id=\"ytick_6\">\r\n     <g id=\"line2d_14\">\r\n      <g>\r\n       <use style=\"stroke:#000000;stroke-width:0.8;\" x=\"33.2875\" xlink:href=\"#mdc7b0f22a5\" y=\"25.479003\"/>\r\n      </g>\r\n     </g>\r\n     <g id=\"text_14\">\r\n      <!-- 600 -->\r\n      <g transform=\"translate(7.2 29.278222)scale(0.1 -0.1)\">\r\n       <use xlink:href=\"#DejaVuSans-36\"/>\r\n       <use x=\"63.623047\" xlink:href=\"#DejaVuSans-30\"/>\r\n       <use x=\"127.246094\" xlink:href=\"#DejaVuSans-30\"/>\r\n      </g>\r\n     </g>\r\n    </g>\r\n   </g>\r\n   <g id=\"line2d_15\">\r\n    <path clip-path=\"url(#pa6f962fdf0)\" d=\"M 54.890933 209.790466 \r\nL 57.01935 209.17772 \r\nL 59.147767 209.259476 \r\nL 61.276184 206.179449 \r\nL 63.404601 204.718441 \r\nL 65.533018 203.678535 \r\nL 67.661435 202.181458 \r\nL 69.789852 202.852887 \r\nL 71.918269 204.18637 \r\nL 74.046686 203.542524 \r\nL 76.175103 203.869001 \r\nL 78.30352 203.550589 \r\nL 80.431937 201.946662 \r\nL 82.560354 201.495122 \r\nL 84.688771 201.727361 \r\nL 86.817188 200.025121 \r\nL 88.945606 197.711933 \r\nL 91.074023 195.990181 \r\nL 93.20244 195.100429 \r\nL 95.330857 196.008855 \r\nL 97.459274 197.661635 \r\nL 103.844525 195.747571 \r\nL 105.972942 193.251179 \r\nL 108.101359 192.555876 \r\nL 110.229776 191.227044 \r\nL 112.358193 189.705226 \r\nL 114.48661 187.051051 \r\nL 116.615027 185.088872 \r\nL 118.743444 184.500506 \r\nL 120.871861 185.391621 \r\nL 123.000278 186.878193 \r\nL 127.257112 185.786062 \r\nL 129.385529 184.735587 \r\nL 131.513946 183.012105 \r\nL 133.642363 182.691626 \r\nL 135.77078 182.109106 \r\nL 142.156031 172.711146 \r\nL 144.284449 172.942908 \r\nL 146.412866 173.958399 \r\nL 148.541283 175.842924 \r\nL 150.6697 175.203905 \r\nL 154.926534 174.546689 \r\nL 157.054951 171.06728 \r\nL 159.183368 169.029916 \r\nL 161.311785 167.914982 \r\nL 163.440202 165.709576 \r\nL 165.568619 162.363493 \r\nL 167.697036 159.378993 \r\nL 169.825453 160.224893 \r\nL 171.95387 162.356098 \r\nL 174.082287 165.994396 \r\nL 178.339121 166.707843 \r\nL 180.467538 168.388614 \r\nL 182.595955 165.457789 \r\nL 184.724372 164.721604 \r\nL 186.852789 163.451962 \r\nL 188.981206 159.976163 \r\nL 191.109623 154.44067 \r\nL 193.23804 151.754836 \r\nL 195.366457 152.602483 \r\nL 197.494874 155.13401 \r\nL 199.623291 158.597966 \r\nL 201.751709 158.295374 \r\nL 203.880126 157.364816 \r\nL 206.008543 157.724023 \r\nL 208.13696 154.758843 \r\nL 210.265377 152.996132 \r\nL 212.393794 151.621947 \r\nL 214.522211 146.388852 \r\nL 216.650628 138.701046 \r\nL 218.779045 135.694908 \r\nL 220.907462 136.427727 \r\nL 223.035879 139.645073 \r\nL 225.164296 144.4563 \r\nL 227.292713 143.113733 \r\nL 229.42113 142.378537 \r\nL 231.549547 142.635652 \r\nL 233.677964 138.782938 \r\nL 235.806381 137.22942 \r\nL 237.934798 135.514224 \r\nL 240.063215 128.808619 \r\nL 242.191632 121.350327 \r\nL 244.320049 117.772802 \r\nL 246.448466 120.00536 \r\nL 248.576883 125.08515 \r\nL 250.7053 130.76572 \r\nL 250.7053 130.76572 \r\n\" style=\"fill:none;stroke:#1f77b4;stroke-linecap:square;stroke-width:1.5;\"/>\r\n   </g>\r\n   <g id=\"line2d_16\">\r\n    <path clip-path=\"url(#pa6f962fdf0)\" d=\"M 252.833717 123.615667 \r\nL 254.962134 123.262906 \r\nL 257.090551 122.613004 \r\nL 259.218969 114.105233 \r\nL 261.347386 106.13794 \r\nL 263.475803 101.802814 \r\nL 265.60422 104.650581 \r\nL 267.732637 110.983278 \r\nL 269.861054 118.118215 \r\nL 271.989471 118.388256 \r\nL 274.117888 119.091461 \r\nL 276.246305 122.041001 \r\nL 278.374722 118.837421 \r\nL 280.503139 119.270724 \r\nL 282.631556 117.774456 \r\nL 284.759973 109.555673 \r\nL 286.88839 100.068705 \r\nL 289.016807 93.76581 \r\nL 293.273641 106.332319 \r\nL 295.402058 114.303932 \r\nL 297.530475 115.607778 \r\nL 299.658892 114.844143 \r\nL 301.787309 116.830278 \r\nL 303.915726 111.1101 \r\nL 306.044143 109.884852 \r\nL 308.17256 106.36969 \r\nL 310.300977 99.185015 \r\nL 312.429394 87.967058 \r\nL 314.557812 81.466861 \r\nL 316.686229 87.103142 \r\nL 318.814646 93.889219 \r\nL 320.943063 101.438628 \r\nL 325.199897 100.266531 \r\nL 327.328314 102.96047 \r\nL 329.456731 101.175132 \r\nL 331.585148 96.333846 \r\nL 333.713565 93.088051 \r\nL 335.841982 84.793047 \r\nL 337.970399 72.363689 \r\nL 340.098816 68.25534 \r\nL 344.35565 80.929235 \r\nL 346.484067 90.893388 \r\nL 346.484067 90.893388 \r\n\" style=\"fill:none;stroke:#ff7f0e;stroke-linecap:square;stroke-width:1.5;\"/>\r\n   </g>\r\n   <g id=\"line2d_17\">\r\n    <path clip-path=\"url(#pa6f962fdf0)\" d=\"M 48.505682 211.703503 \r\nL 50.634099 209.413857 \r\nL 52.762516 204.071351 \r\nL 54.890933 205.216174 \r\nL 57.01935 208.269035 \r\nL 59.147767 202.926529 \r\nL 61.276184 197.96563 \r\nL 63.404601 197.96563 \r\nL 65.533018 202.544921 \r\nL 67.661435 209.03225 \r\nL 69.789852 214.756364 \r\nL 71.918269 209.413857 \r\nL 74.046686 210.55868 \r\nL 76.175103 206.360997 \r\nL 78.30352 200.636883 \r\nL 80.431937 202.926529 \r\nL 82.560354 206.742604 \r\nL 84.688771 197.584022 \r\nL 86.817188 189.570263 \r\nL 88.945606 189.570263 \r\nL 91.074023 194.149554 \r\nL 93.20244 203.689744 \r\nL 95.330857 210.940288 \r\nL 97.459274 201.018491 \r\nL 101.716108 197.202415 \r\nL 103.844525 186.517403 \r\nL 105.972942 192.241516 \r\nL 108.101359 188.807048 \r\nL 110.229776 186.517403 \r\nL 112.358193 178.503643 \r\nL 114.48661 178.503643 \r\nL 116.615027 184.227757 \r\nL 118.743444 192.623124 \r\nL 120.871861 198.728845 \r\nL 123.000278 191.096694 \r\nL 125.128695 189.188656 \r\nL 127.257112 185.754187 \r\nL 129.385529 180.793289 \r\nL 131.513946 185.37258 \r\nL 133.642363 184.609365 \r\nL 135.77078 171.253099 \r\nL 140.027614 162.094517 \r\nL 142.156031 174.687568 \r\nL 144.284449 181.556504 \r\nL 146.412866 188.807048 \r\nL 148.541283 180.411681 \r\nL 150.6697 179.648466 \r\nL 152.798117 179.648466 \r\nL 154.926534 164.384163 \r\nL 157.054951 164.76577 \r\nL 159.183368 167.055416 \r\nL 161.311785 161.71291 \r\nL 163.440202 153.699151 \r\nL 165.568619 150.64629 \r\nL 167.697036 164.002555 \r\nL 169.825453 173.924352 \r\nL 171.95387 185.754187 \r\nL 174.082287 177.740428 \r\nL 176.210704 176.595605 \r\nL 178.339121 182.701327 \r\nL 180.467538 164.76577 \r\nL 182.595955 167.818631 \r\nL 184.724372 165.147378 \r\nL 186.852789 153.699151 \r\nL 188.981206 139.198062 \r\nL 191.109623 142.632531 \r\nL 193.23804 155.607188 \r\nL 195.366457 167.055416 \r\nL 197.494874 176.977213 \r\nL 199.623291 167.055416 \r\nL 201.751709 162.094517 \r\nL 203.880126 165.528986 \r\nL 206.008543 152.554328 \r\nL 208.13696 151.791113 \r\nL 210.265377 151.409505 \r\nL 212.393794 134.237164 \r\nL 214.522211 115.538404 \r\nL 216.650628 122.025721 \r\nL 218.779045 135.381987 \r\nL 223.035879 164.002555 \r\nL 225.164296 148.356644 \r\nL 227.292713 146.066999 \r\nL 229.42113 148.738252 \r\nL 231.549547 133.473949 \r\nL 233.677964 135.000379 \r\nL 235.806381 133.092341 \r\nL 237.934798 111.722328 \r\nL 240.063215 96.839633 \r\nL 242.191632 99.892493 \r\nL 246.448466 137.671632 \r\nL 248.576883 151.027898 \r\nL 250.7053 137.671632 \r\nL 252.833717 134.237164 \r\nL 254.962134 139.57967 \r\nL 257.090551 118.591253 \r\nL 259.218969 121.644114 \r\nL 261.347386 118.972861 \r\nL 263.475803 93.405164 \r\nL 265.60422 76.996027 \r\nL 267.732637 76.232823 \r\nL 269.861054 100.274101 \r\nL 271.989471 122.025721 \r\nL 274.117888 138.05324 \r\nL 276.246305 126.223405 \r\nL 278.374722 124.696974 \r\nL 280.503139 133.092341 \r\nL 282.631556 116.301608 \r\nL 284.759973 121.644114 \r\nL 286.88839 115.92 \r\nL 289.016807 88.444266 \r\nL 291.145224 67.07423 \r\nL 293.273641 61.731723 \r\nL 295.402058 100.274101 \r\nL 297.530475 117.44643 \r\nL 299.658892 136.145202 \r\nL 301.787309 125.841797 \r\nL 303.915726 117.064823 \r\nL 306.044143 123.933759 \r\nL 308.17256 99.510874 \r\nL 310.300977 103.326961 \r\nL 312.429394 94.168368 \r\nL 314.557812 74.324785 \r\nL 316.686229 45.322597 \r\nL 318.814646 41.124914 \r\nL 320.943063 77.759253 \r\nL 323.07148 99.129266 \r\nL 325.199897 116.301608 \r\nL 327.328314 99.892493 \r\nL 329.456731 95.313202 \r\nL 331.585148 105.234999 \r\nL 333.713565 94.549987 \r\nL 335.841982 78.522457 \r\nL 337.970399 74.324785 \r\nL 340.098816 50.283496 \r\nL 342.227233 17.083636 \r\nL 344.35565 23.189358 \r\nL 346.484067 60.586912 \r\nL 348.612484 78.522457 \r\nL 350.740901 105.616595 \r\nL 352.869318 89.589089 \r\nL 352.869318 89.589089 \r\n\" style=\"fill:none;stroke:#2ca02c;stroke-linecap:square;stroke-width:1.5;\"/>\r\n   </g>\r\n   <g id=\"patch_3\">\r\n    <path d=\"M 33.2875 224.64 \r\nL 33.2875 7.2 \r\n\" style=\"fill:none;stroke:#000000;stroke-linecap:square;stroke-linejoin:miter;stroke-width:0.8;\"/>\r\n   </g>\r\n   <g id=\"patch_4\">\r\n    <path d=\"M 368.0875 224.64 \r\nL 368.0875 7.2 \r\n\" style=\"fill:none;stroke:#000000;stroke-linecap:square;stroke-linejoin:miter;stroke-width:0.8;\"/>\r\n   </g>\r\n   <g id=\"patch_5\">\r\n    <path d=\"M 33.2875 224.64 \r\nL 368.0875 224.64 \r\n\" style=\"fill:none;stroke:#000000;stroke-linecap:square;stroke-linejoin:miter;stroke-width:0.8;\"/>\r\n   </g>\r\n   <g id=\"patch_6\">\r\n    <path d=\"M 33.2875 7.2 \r\nL 368.0875 7.2 \r\n\" style=\"fill:none;stroke:#000000;stroke-linecap:square;stroke-linejoin:miter;stroke-width:0.8;\"/>\r\n   </g>\r\n  </g>\r\n </g>\r\n <defs>\r\n  <clipPath id=\"pa6f962fdf0\">\r\n   <rect height=\"217.44\" width=\"334.8\" x=\"33.2875\" y=\"7.2\"/>\r\n  </clipPath>\r\n </defs>\r\n</svg>\r\n",
      "image/png": "[encoded data removed]"
     },
     "metadata": {
      "needs_background": "light"
     }
    }
   ],
   "source": [
    "trainPlot=np.empty_like(dataset)\n",
    "trainPlot[look_back:look_back+len(trainPred)]=trainPred\n",
    "trainPlot[look_back+len(trainPred):]=None\n",
    "trainPlot[0:look_back]=None\n",
    "testPlot=np.empty_like(dataset)\n",
    "testPlot[look_back+len(trainPred):-look_back]=testPred\n",
    "testPlot[:look_back+len(trainPred)]=None\n",
    "testPlot[-look_back:]=None\n",
    "plt.plot(trainPlot)\n",
    "plt.plot(testPlot)\n",
    "plt.plot(scaler.inverse_transform(dataset))\n",
    "plt.show()"
   ]
  },
  {
   "cell_type": "code",
   "execution_count": null,
   "metadata": {},
   "outputs": [],
   "source": []
  }
 ]
}